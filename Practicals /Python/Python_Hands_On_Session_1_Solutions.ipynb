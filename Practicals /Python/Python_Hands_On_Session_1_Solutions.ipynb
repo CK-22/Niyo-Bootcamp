{
  "nbformat": 4,
  "nbformat_minor": 0,
  "metadata": {
    "colab": {
      "provenance": []
    },
    "kernelspec": {
      "name": "python3",
      "display_name": "Python 3"
    },
    "language_info": {
      "name": "python"
    }
  },
  "cells": [
    {
      "cell_type": "markdown",
      "source": [
        "Part 1 Solutions"
      ],
      "metadata": {
        "id": "c-a9Gi8h68DC"
      }
    },
    {
      "cell_type": "code",
      "execution_count": null,
      "metadata": {
        "colab": {
          "base_uri": "https://localhost:8080/"
        },
        "id": "tvb7yM8Xxajz",
        "outputId": "45940de9-055e-42e0-9d75-a2c68c006b13"
      },
      "outputs": [
        {
          "output_type": "stream",
          "name": "stdout",
          "text": [
            "21\n"
          ]
        }
      ],
      "source": [
        "#a) note this could be any values\n",
        "x = 6\n",
        "y = 7 \n",
        "z = 8\n",
        "\n",
        "print(x+y+z)\n"
      ]
    },
    {
      "cell_type": "code",
      "source": [
        "#b) \n",
        "artists = ['beyonce', 'wizkid', 'burna boy', 'drake', 'rihanna']\n",
        "print(artists[1])"
      ],
      "metadata": {
        "colab": {
          "base_uri": "https://localhost:8080/"
        },
        "id": "S6l_J1VJyEf7",
        "outputId": "1f671b0c-0639-4ee2-f2c1-a07e299927e4"
      },
      "execution_count": null,
      "outputs": [
        {
          "output_type": "stream",
          "name": "stdout",
          "text": [
            "wizkid\n"
          ]
        }
      ]
    },
    {
      "cell_type": "code",
      "source": [
        "#b)i)\n",
        "artists[2] = 'Adele'\n",
        "print(artists)"
      ],
      "metadata": {
        "colab": {
          "base_uri": "https://localhost:8080/"
        },
        "id": "SrDWqs8YylX0",
        "outputId": "8ab619f3-e212-4cfe-c641-ea9e0ed93e01"
      },
      "execution_count": null,
      "outputs": [
        {
          "output_type": "stream",
          "name": "stdout",
          "text": [
            "['beyonce', 'wizkid', 'Adele', 'drake', 'rihanna']\n"
          ]
        }
      ]
    },
    {
      "cell_type": "code",
      "source": [
        "#b)ii)\n",
        "new_artists = ['tems', 'craig david']\n",
        "artists = artists + new_artists\n",
        "print(artists)"
      ],
      "metadata": {
        "colab": {
          "base_uri": "https://localhost:8080/"
        },
        "id": "it_rSVMLytyG",
        "outputId": "ef5e7620-8f0a-449c-816e-fd3c9cb35967"
      },
      "execution_count": null,
      "outputs": [
        {
          "output_type": "stream",
          "name": "stdout",
          "text": [
            "['beyonce', 'wizkid', 'Adele', 'drake', 'rihanna', 'tems', 'craig david']\n"
          ]
        }
      ]
    },
    {
      "cell_type": "code",
      "source": [
        "#b)iii)\n",
        "len(artists)"
      ],
      "metadata": {
        "colab": {
          "base_uri": "https://localhost:8080/"
        },
        "id": "S7E8bdQrzAD5",
        "outputId": "18f961e8-ff15-498f-8a4e-23c3d9462826"
      },
      "execution_count": null,
      "outputs": [
        {
          "output_type": "execute_result",
          "data": {
            "text/plain": [
              "7"
            ]
          },
          "metadata": {},
          "execution_count": 5
        }
      ]
    },
    {
      "cell_type": "code",
      "source": [
        "#c)\n",
        "my_first_name = 'Anna'"
      ],
      "metadata": {
        "id": "K4uLDPyCzGMW"
      },
      "execution_count": null,
      "outputs": []
    },
    {
      "cell_type": "code",
      "source": [
        "#d) \n",
        "x = 6.7\n",
        "y = 10\n",
        "z = True\n",
        "w = 'Hello World'"
      ],
      "metadata": {
        "id": "uqv0B2ahzNDp"
      },
      "execution_count": null,
      "outputs": []
    },
    {
      "cell_type": "code",
      "source": [
        "#d)i)\n",
        "type(x)"
      ],
      "metadata": {
        "colab": {
          "base_uri": "https://localhost:8080/"
        },
        "id": "q4VnX9dgzWkg",
        "outputId": "0291c4c4-4dad-45ee-d211-7932da2f5c70"
      },
      "execution_count": null,
      "outputs": [
        {
          "output_type": "execute_result",
          "data": {
            "text/plain": [
              "float"
            ]
          },
          "metadata": {},
          "execution_count": 8
        }
      ]
    },
    {
      "cell_type": "code",
      "source": [
        "#d)ii)\n",
        "type(y)"
      ],
      "metadata": {
        "colab": {
          "base_uri": "https://localhost:8080/"
        },
        "id": "L3ixe1fHzcd1",
        "outputId": "e3e927c1-4a77-4383-c181-2278792fb52f"
      },
      "execution_count": null,
      "outputs": [
        {
          "output_type": "execute_result",
          "data": {
            "text/plain": [
              "int"
            ]
          },
          "metadata": {},
          "execution_count": 9
        }
      ]
    },
    {
      "cell_type": "code",
      "source": [
        "#d)iii)\n",
        "type(z)"
      ],
      "metadata": {
        "colab": {
          "base_uri": "https://localhost:8080/"
        },
        "id": "KR1Mi-L6zdHg",
        "outputId": "8c6bb6b7-8767-4f4f-cfe1-ffd339a4d96e"
      },
      "execution_count": null,
      "outputs": [
        {
          "output_type": "execute_result",
          "data": {
            "text/plain": [
              "bool"
            ]
          },
          "metadata": {},
          "execution_count": 10
        }
      ]
    },
    {
      "cell_type": "code",
      "source": [
        "#d)iiii)\n",
        "type(w)"
      ],
      "metadata": {
        "colab": {
          "base_uri": "https://localhost:8080/"
        },
        "id": "kj5mWGktzd37",
        "outputId": "53834645-7cf5-49cd-9563-8693f55394cd"
      },
      "execution_count": null,
      "outputs": [
        {
          "output_type": "execute_result",
          "data": {
            "text/plain": [
              "str"
            ]
          },
          "metadata": {},
          "execution_count": 11
        }
      ]
    },
    {
      "cell_type": "code",
      "source": [
        "#e)\n",
        "employees = {'Sophia': 5000, 'Michael': 2000, 'Lisa': 7000, 'David': 2500}\n",
        "employees"
      ],
      "metadata": {
        "colab": {
          "base_uri": "https://localhost:8080/"
        },
        "id": "sRyk8Fvmzo-O",
        "outputId": "a0459b14-32e3-4def-9597-e33f66141b12"
      },
      "execution_count": null,
      "outputs": [
        {
          "output_type": "execute_result",
          "data": {
            "text/plain": [
              "{'Sophia': 5000, 'Michael': 2000, 'Lisa': 7000, 'David': 2500}"
            ]
          },
          "metadata": {},
          "execution_count": 12
        }
      ]
    },
    {
      "cell_type": "code",
      "source": [
        "#e)i)\n",
        "employees['Sophia'] = 6200\n",
        "employees"
      ],
      "metadata": {
        "colab": {
          "base_uri": "https://localhost:8080/"
        },
        "id": "tgvrqpkDz4sW",
        "outputId": "2452a51e-a222-4854-87ce-9e2452323b9b"
      },
      "execution_count": null,
      "outputs": [
        {
          "output_type": "execute_result",
          "data": {
            "text/plain": [
              "{'Sophia': 6200, 'Michael': 2000, 'Lisa': 7000, 'David': 2500}"
            ]
          },
          "metadata": {},
          "execution_count": 13
        }
      ]
    },
    {
      "cell_type": "code",
      "source": [
        "#e)ii)\n",
        "employees['Emma'] = 8000\n",
        "employees"
      ],
      "metadata": {
        "colab": {
          "base_uri": "https://localhost:8080/"
        },
        "id": "He4OmLU80CK2",
        "outputId": "1c964b2f-2b1d-46d9-b7f2-bb3f258c2d6d"
      },
      "execution_count": null,
      "outputs": [
        {
          "output_type": "execute_result",
          "data": {
            "text/plain": [
              "{'Sophia': 6200, 'Michael': 2000, 'Lisa': 7000, 'David': 2500, 'Emma': 8000}"
            ]
          },
          "metadata": {},
          "execution_count": 14
        }
      ]
    },
    {
      "cell_type": "code",
      "source": [
        "#f)\n",
        "string1 = 'hello world python is great lovely stuff!'\n",
        "string1[12:27]"
      ],
      "metadata": {
        "colab": {
          "base_uri": "https://localhost:8080/",
          "height": 35
        },
        "id": "GWUoKcd40IX-",
        "outputId": "260766a9-65d7-462c-cea8-e8dcddb4030b"
      },
      "execution_count": null,
      "outputs": [
        {
          "output_type": "execute_result",
          "data": {
            "text/plain": [
              "'python is great'"
            ],
            "application/vnd.google.colaboratory.intrinsic+json": {
              "type": "string"
            }
          },
          "metadata": {},
          "execution_count": 15
        }
      ]
    },
    {
      "cell_type": "code",
      "source": [
        "#g) \n",
        "x = 67\n",
        "y = 5\n",
        "z = 67.5\n",
        "w = 10\n",
        "v = 55"
      ],
      "metadata": {
        "id": "vb4PF5uq0cuF"
      },
      "execution_count": null,
      "outputs": []
    },
    {
      "cell_type": "code",
      "source": [
        "#g)i)\n",
        "x > y"
      ],
      "metadata": {
        "colab": {
          "base_uri": "https://localhost:8080/"
        },
        "id": "L51N7g_y0mkx",
        "outputId": "b248af32-20f2-4177-ed04-37b46d4412df"
      },
      "execution_count": null,
      "outputs": [
        {
          "output_type": "execute_result",
          "data": {
            "text/plain": [
              "True"
            ]
          },
          "metadata": {},
          "execution_count": 17
        }
      ]
    },
    {
      "cell_type": "code",
      "source": [
        "#g)ii)\n",
        "y < v"
      ],
      "metadata": {
        "colab": {
          "base_uri": "https://localhost:8080/"
        },
        "id": "DJBsCmlz0sxq",
        "outputId": "eed79cc2-2787-4aec-b8ce-4e80d296505c"
      },
      "execution_count": null,
      "outputs": [
        {
          "output_type": "execute_result",
          "data": {
            "text/plain": [
              "True"
            ]
          },
          "metadata": {},
          "execution_count": 18
        }
      ]
    },
    {
      "cell_type": "code",
      "source": [
        "#g)iii)\n",
        "w > z"
      ],
      "metadata": {
        "colab": {
          "base_uri": "https://localhost:8080/"
        },
        "id": "ogsai1Kg0zpO",
        "outputId": "c8272422-b06e-4d8f-da5e-24aa07a050f6"
      },
      "execution_count": null,
      "outputs": [
        {
          "output_type": "execute_result",
          "data": {
            "text/plain": [
              "False"
            ]
          },
          "metadata": {},
          "execution_count": 20
        }
      ]
    },
    {
      "cell_type": "code",
      "source": [
        "#g) iv)\n",
        "w > v"
      ],
      "metadata": {
        "colab": {
          "base_uri": "https://localhost:8080/"
        },
        "id": "Bwk4YvsV05bT",
        "outputId": "5bf453cd-3bb4-4939-cee6-207b7ceccec1"
      },
      "execution_count": null,
      "outputs": [
        {
          "output_type": "execute_result",
          "data": {
            "text/plain": [
              "False"
            ]
          },
          "metadata": {},
          "execution_count": 21
        }
      ]
    },
    {
      "cell_type": "code",
      "source": [
        "#h)\n",
        "house_price = int(input('How much is the house: '))\n",
        "deposit = int(input('How much deposit do you want to pay in %: '))\n",
        "deposit_calc = house_price * (deposit/100)\n",
        "print(f'The house is is £{house_price}\\nYour deposit of {deposit}% means that you need to pay £{deposit_calc}')"
      ],
      "metadata": {
        "colab": {
          "base_uri": "https://localhost:8080/"
        },
        "id": "8RlK_MRx1a1l",
        "outputId": "ac369eaf-97eb-4e9a-cf75-03f5354e8207"
      },
      "execution_count": null,
      "outputs": [
        {
          "output_type": "stream",
          "name": "stdout",
          "text": [
            "How much is the house: 380000\n",
            "How much deposit do you want to pay in %: 10\n",
            "The house is is £380000\n",
            "Your deposit of 10% means that you need to pay £38000.0\n"
          ]
        }
      ]
    },
    {
      "cell_type": "code",
      "source": [
        "#i)\n",
        "borrow = int(input('How much would you like to borrow: '))\n",
        "years = int(input('How many years:'))\n",
        "months = years * 12\n",
        "apr = 0.2\n",
        "total_loan = (borrow * apr) + borrow\n",
        "total_loan_per_month = total_loan/months\n",
        "\n",
        "print(f'You would like to borrow £{borrow} over {years} years at an APR% of {apr*100}%\\nIn total after {years} years, the total you will pay is £{total_loan}\\nThis amounts to £{total_loan_per_month} per month')"
      ],
      "metadata": {
        "colab": {
          "base_uri": "https://localhost:8080/"
        },
        "id": "HRFxcVtg3y2y",
        "outputId": "20523034-0750-4f71-9ee3-d9edbd61b99b"
      },
      "execution_count": null,
      "outputs": [
        {
          "output_type": "stream",
          "name": "stdout",
          "text": [
            "How much would you like to borrow: 30000\n",
            "How many years:10\n",
            "You would like to borrow £30000 over 10 years at an APR% of 20.0%\n",
            "In total after 10 years, the total you will pay is £36000.0\n",
            "This amounts to £300.0 per month\n"
          ]
        }
      ]
    },
    {
      "cell_type": "code",
      "source": [
        "#j)\n",
        "countries = 'canada{}usa{}mexico{}australia'\n",
        "new_countries = countries.split('{}')"
      ],
      "metadata": {
        "id": "TAKYf-vd5Ml_"
      },
      "execution_count": null,
      "outputs": []
    },
    {
      "cell_type": "code",
      "source": [
        "#j) i)\n",
        "new_countries[2]"
      ],
      "metadata": {
        "colab": {
          "base_uri": "https://localhost:8080/",
          "height": 35
        },
        "id": "rMAvZfqD5Yhw",
        "outputId": "e5d7d5ee-5c39-4a92-859c-9f0320c7e5ca"
      },
      "execution_count": null,
      "outputs": [
        {
          "output_type": "execute_result",
          "data": {
            "text/plain": [
              "'mexico'"
            ],
            "application/vnd.google.colaboratory.intrinsic+json": {
              "type": "string"
            }
          },
          "metadata": {},
          "execution_count": 30
        }
      ]
    },
    {
      "cell_type": "markdown",
      "source": [
        "Part 2 Solutions"
      ],
      "metadata": {
        "id": "qHRc5BSB5tSX"
      }
    },
    {
      "cell_type": "code",
      "source": [
        "import numpy as np "
      ],
      "metadata": {
        "id": "w8H1cRJw5sbt"
      },
      "execution_count": null,
      "outputs": []
    },
    {
      "cell_type": "code",
      "source": [
        "#a)\n",
        "x = np.random.randint(5,60,100)"
      ],
      "metadata": {
        "id": "DLUEc0yv7HzS"
      },
      "execution_count": null,
      "outputs": []
    },
    {
      "cell_type": "code",
      "source": [
        "np.unique(x, return_counts=True)"
      ],
      "metadata": {
        "colab": {
          "base_uri": "https://localhost:8080/"
        },
        "id": "vHGquy7T7WTJ",
        "outputId": "4e1c55da-f848-4db6-f593-de8888f95f03"
      },
      "execution_count": null,
      "outputs": [
        {
          "output_type": "execute_result",
          "data": {
            "text/plain": [
              "(array([ 5,  6,  7,  8,  9, 10, 12, 13, 16, 18, 19, 20, 21, 22, 23, 25, 26,\n",
              "        29, 30, 31, 32, 33, 34, 35, 36, 37, 38, 39, 40, 41, 42, 43, 44, 45,\n",
              "        46, 48, 49, 50, 51, 52, 53, 54, 55, 56, 57, 58]),\n",
              " array([2, 4, 1, 1, 3, 2, 2, 1, 2, 1, 2, 2, 1, 1, 2, 2, 2, 3, 2, 1, 3, 1,\n",
              "        3, 2, 2, 3, 1, 2, 2, 1, 2, 2, 1, 2, 5, 2, 4, 4, 2, 5, 1, 2, 4, 4,\n",
              "        1, 2]))"
            ]
          },
          "metadata": {},
          "execution_count": 33
        }
      ]
    },
    {
      "cell_type": "code",
      "source": [
        "#b)\n",
        "np.linspace(0,100,5)"
      ],
      "metadata": {
        "colab": {
          "base_uri": "https://localhost:8080/"
        },
        "id": "_9-HUCOY7YU1",
        "outputId": "eec8b1a6-b1a8-4bd1-8a02-6ae25917b742"
      },
      "execution_count": null,
      "outputs": [
        {
          "output_type": "execute_result",
          "data": {
            "text/plain": [
              "array([  0.,  25.,  50.,  75., 100.])"
            ]
          },
          "metadata": {},
          "execution_count": 34
        }
      ]
    },
    {
      "cell_type": "code",
      "source": [
        "#c)\n",
        "x = np.random.randint(0,10,(5,5))\n",
        "x"
      ],
      "metadata": {
        "colab": {
          "base_uri": "https://localhost:8080/"
        },
        "id": "yUWcMnHx6KET",
        "outputId": "f9a029b9-83c6-4d69-a628-4a8f13199840"
      },
      "execution_count": null,
      "outputs": [
        {
          "output_type": "execute_result",
          "data": {
            "text/plain": [
              "array([[8, 4, 8, 8, 1],\n",
              "       [0, 6, 6, 0, 6],\n",
              "       [6, 5, 8, 7, 8],\n",
              "       [7, 4, 9, 7, 7],\n",
              "       [1, 5, 7, 2, 5]])"
            ]
          },
          "metadata": {},
          "execution_count": 3
        }
      ]
    },
    {
      "cell_type": "code",
      "source": [
        "#d)\n",
        "a = np.array([[1,2,3],[4,5,6]]) \n",
        "b = np.array([[10,11,12],[13,14,15]])"
      ],
      "metadata": {
        "id": "G8HAoye46TfK"
      },
      "execution_count": null,
      "outputs": []
    },
    {
      "cell_type": "code",
      "source": [
        "#d)i)\n",
        "a+b"
      ],
      "metadata": {
        "colab": {
          "base_uri": "https://localhost:8080/"
        },
        "id": "4hmqkigC6fgu",
        "outputId": "6dd24b91-9bf2-4a55-8c18-b0f9a4f97e92"
      },
      "execution_count": null,
      "outputs": [
        {
          "output_type": "execute_result",
          "data": {
            "text/plain": [
              "array([[11, 13, 15],\n",
              "       [17, 19, 21]])"
            ]
          },
          "metadata": {},
          "execution_count": 5
        }
      ]
    },
    {
      "cell_type": "code",
      "source": [
        "#d)ii)\n",
        "a-b"
      ],
      "metadata": {
        "colab": {
          "base_uri": "https://localhost:8080/"
        },
        "id": "ydIJUpQ_6mVb",
        "outputId": "23abd811-81c7-4871-ba05-1cb305fdbb4b"
      },
      "execution_count": null,
      "outputs": [
        {
          "output_type": "execute_result",
          "data": {
            "text/plain": [
              "array([[-9, -9, -9],\n",
              "       [-9, -9, -9]])"
            ]
          },
          "metadata": {},
          "execution_count": 6
        }
      ]
    },
    {
      "cell_type": "code",
      "source": [
        "#d)iii)\n",
        "a*b"
      ],
      "metadata": {
        "colab": {
          "base_uri": "https://localhost:8080/"
        },
        "id": "LdTyXQ-Z6m07",
        "outputId": "3ed2fd8e-cc2e-45e7-8c9c-deda839ae02c"
      },
      "execution_count": null,
      "outputs": [
        {
          "output_type": "execute_result",
          "data": {
            "text/plain": [
              "array([[10, 22, 36],\n",
              "       [52, 70, 90]])"
            ]
          },
          "metadata": {},
          "execution_count": 7
        }
      ]
    },
    {
      "cell_type": "code",
      "source": [
        "#d)iv)\n",
        "a/b"
      ],
      "metadata": {
        "colab": {
          "base_uri": "https://localhost:8080/"
        },
        "id": "D8Mdf54A6nXT",
        "outputId": "6ab4d532-0cf1-4f6e-a705-8d3f1d74fe63"
      },
      "execution_count": null,
      "outputs": [
        {
          "output_type": "execute_result",
          "data": {
            "text/plain": [
              "array([[0.1       , 0.18181818, 0.25      ],\n",
              "       [0.30769231, 0.35714286, 0.4       ]])"
            ]
          },
          "metadata": {},
          "execution_count": 8
        }
      ]
    },
    {
      "cell_type": "markdown",
      "source": [
        "Part 3 Solutions"
      ],
      "metadata": {
        "id": "nKhsmjdM8OTw"
      }
    },
    {
      "cell_type": "code",
      "source": [
        "#a)\n",
        "\n",
        "username = input('What is your username?: ')\n",
        "\n",
        "if username == 'anna':\n",
        "  print(f'Welcome {username}, your password is xxxx')\n",
        "else:\n",
        "  print('Access denied')"
      ],
      "metadata": {
        "colab": {
          "base_uri": "https://localhost:8080/"
        },
        "id": "mUcCDIDz8Ppr",
        "outputId": "e227e48f-4c38-4e7f-dc81-cc4817617567"
      },
      "execution_count": null,
      "outputs": [
        {
          "output_type": "stream",
          "name": "stdout",
          "text": [
            "What is your username?: anna\n",
            "Welcome anna, your password is xxxx\n"
          ]
        }
      ]
    },
    {
      "cell_type": "code",
      "source": [
        "#b)\n",
        "random_number = np.random.randint(0,51)\n",
        "user_guess = int(input('Guess a number between 0 and 50: '))\n",
        "\n",
        "if random_number == user_guess:\n",
        "  print('Well done you have guessed correctly!!:)')\n",
        "else:\n",
        "  print('Sorry on this occasion, its the wrong guess')"
      ],
      "metadata": {
        "colab": {
          "base_uri": "https://localhost:8080/"
        },
        "id": "bFU07yTt8yuP",
        "outputId": "d94ca457-5d8d-4d5f-aee7-47358c47babe"
      },
      "execution_count": null,
      "outputs": [
        {
          "output_type": "stream",
          "name": "stdout",
          "text": [
            "0\n",
            "Guess a number between 0 and 50: 0\n",
            "Well done you have guessed correctly!!:)\n"
          ]
        }
      ]
    },
    {
      "cell_type": "code",
      "source": [
        "200%2"
      ],
      "metadata": {
        "colab": {
          "base_uri": "https://localhost:8080/"
        },
        "id": "UZHcm9Ix-RXL",
        "outputId": "95c50916-cf6d-465a-f4c0-4e57b3a6bf75"
      },
      "execution_count": null,
      "outputs": [
        {
          "output_type": "execute_result",
          "data": {
            "text/plain": [
              "0"
            ]
          },
          "metadata": {},
          "execution_count": 44
        }
      ]
    },
    {
      "cell_type": "code",
      "source": [
        "#c) \n",
        "user_number = int(input('Give us a number: '))\n",
        "\n",
        "if user_number % 2 == 0:\n",
        "  print(f'Your number {user_number} is an even number!')\n",
        "elif user_number % 2 == 1:\n",
        "  print(f'Your number {user_number} is an odd number!')\n",
        "else:\n",
        "  print('your number is not valid')"
      ],
      "metadata": {
        "colab": {
          "base_uri": "https://localhost:8080/"
        },
        "id": "TYCGIeTS9l2i",
        "outputId": "12da07ca-bdce-420e-f0a7-ce4a8b7b0b5e"
      },
      "execution_count": null,
      "outputs": [
        {
          "output_type": "stream",
          "name": "stdout",
          "text": [
            "Give us a number: 5\n",
            "Your number 5 is an odd number!\n"
          ]
        }
      ]
    },
    {
      "cell_type": "code",
      "source": [
        "#d) you could keep adding more permutations to this\n",
        "player_1 = input('player_1: rock, paper or scissors? ')\n",
        "player_2 = input('player_2: rock, paper or scissors? ')\n",
        "\n",
        "if player_1 == 'rock' and player_2 == 'rock':\n",
        "  print('Thats a tie!!')\n",
        "\n",
        "if player_1 == 'paper' and player_2 == 'scissors':\n",
        "  print('player_2 won!')\n",
        "\n",
        "if player_1 == 'scissors' and player_2 == 'rock':\n",
        "  print('player_2 won!')"
      ],
      "metadata": {
        "colab": {
          "base_uri": "https://localhost:8080/"
        },
        "id": "m4_-GgfD-3qd",
        "outputId": "8774edfa-72cc-4595-b156-18a1c3cf1bb5"
      },
      "execution_count": null,
      "outputs": [
        {
          "output_type": "stream",
          "name": "stdout",
          "text": [
            "player_1: rock, paper or scissors? scissors\n",
            "player_2: rock, paper or scissors? rock\n",
            "player_2 won!\n"
          ]
        }
      ]
    }
  ]
}